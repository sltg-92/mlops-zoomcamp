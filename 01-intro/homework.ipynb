{
 "cells": [
  {
   "cell_type": "code",
   "execution_count": 1,
   "id": "5a5fcf9d",
   "metadata": {},
   "outputs": [],
   "source": [
    "import pandas as pd\n",
    "import seaborn as sns\n",
    "import matplotlib.pyplot as plt\n",
    "from sklearn.feature_extraction import DictVectorizer\n",
    "from sklearn.linear_model import LinearRegression\n",
    "from sklearn.metrics import mean_squared_error"
   ]
  },
  {
   "cell_type": "code",
   "execution_count": 2,
   "id": "2adaf399",
   "metadata": {},
   "outputs": [],
   "source": [
    "# Download the data for January and February 2023\n",
    "url_january = 'https://d37ci6vzurychx.cloudfront.net/trip-data/yellow_tripdata_2023-01.parquet'\n",
    "url_february = 'https://d37ci6vzurychx.cloudfront.net/trip-data/yellow_tripdata_2023-02.parquet'"
   ]
  },
  {
   "cell_type": "code",
   "execution_count": 3,
   "id": "6aa072f3",
   "metadata": {},
   "outputs": [],
   "source": [
    "df_january = pd.read_parquet(url_january)\n",
    "df_february = pd.read_parquet(url_february)"
   ]
  },
  {
   "cell_type": "code",
   "execution_count": 4,
   "id": "d3c96615",
   "metadata": {},
   "outputs": [
    {
     "name": "stdout",
     "output_type": "stream",
     "text": [
      "The number of columns in the January DataFrame is: 19\n"
     ]
    }
   ],
   "source": [
    "# Question 1: How many columns does the January dataset have?\n",
    "num_columns_january = df_january.shape[1]\n",
    "print(\"The number of columns in the January DataFrame is:\", num_columns_january)"
   ]
  },
  {
   "cell_type": "code",
   "execution_count": 5,
   "id": "edadb249",
   "metadata": {},
   "outputs": [
    {
     "name": "stdout",
     "output_type": "stream",
     "text": [
      "The standard deviation of January travel times is: 42.594351241920904 minutes.\n"
     ]
    }
   ],
   "source": [
    "# Question 2: Compute the duration variable in minutes\n",
    "df_january['tpep_pickup_datetime'] = pd.to_datetime(df_january['tpep_pickup_datetime'])\n",
    "df_january['tpep_dropoff_datetime'] = pd.to_datetime(df_january['tpep_dropoff_datetime'])\n",
    "df_january['duration'] = (df_january['tpep_dropoff_datetime'] - df_january['tpep_pickup_datetime']).dt.total_seconds() / 60\n",
    "std_typical_deviation = df_january['duration'].std()\n",
    "print(\"The standard deviation of January travel times is:\", std_typical_deviation, \"minutes.\")"
   ]
  },
  {
   "cell_type": "code",
   "execution_count": 6,
   "id": "70ca9289",
   "metadata": {},
   "outputs": [
    {
     "name": "stdout",
     "output_type": "stream",
     "text": [
      "The fraction of records after removing outliers is: 0.9812202822125979\n"
     ]
    }
   ],
   "source": [
    "# Question 3: Drop outliers\n",
    "df_filtered = df_january[(df_january['duration'] >= 1) & (df_january['duration'] <= 60)]\n",
    "fraction_records = len(df_filtered) / len(df_january)\n",
    "print(\"The fraction of records after removing outliers is:\", fraction_records)"
   ]
  },
  {
   "cell_type": "code",
   "execution_count": 7,
   "id": "9f122922",
   "metadata": {},
   "outputs": [
    {
     "name": "stderr",
     "output_type": "stream",
     "text": [
      "/tmp/ipykernel_74735/380600620.py:4: SettingWithCopyWarning: \n",
      "A value is trying to be set on a copy of a slice from a DataFrame.\n",
      "Try using .loc[row_indexer,col_indexer] = value instead\n",
      "\n",
      "See the caveats in the documentation: https://pandas.pydata.org/pandas-docs/stable/user_guide/indexing.html#returning-a-view-versus-a-copy\n",
      "  df_filtered[categorical] = df_filtered[categorical].astype(str)\n"
     ]
    }
   ],
   "source": [
    "# Question 4: Apply one-hot encoding\n",
    "categorical = ['PULocationID', 'DOLocationID']\n",
    "numerical = ['trip_distance']\n",
    "df_filtered[categorical] = df_filtered[categorical].astype(str)\n",
    "features = categorical + numerical\n",
    "train_dicts = df_filtered[features].to_dict(orient='records')"
   ]
  },
  {
   "cell_type": "code",
   "execution_count": 8,
   "id": "e9de3154",
   "metadata": {},
   "outputs": [
    {
     "name": "stdout",
     "output_type": "stream",
     "text": [
      "The number of columns in the matrix is: 516\n"
     ]
    }
   ],
   "source": [
    "dv = DictVectorizer()\n",
    "X_train = dv.fit_transform(train_dicts)\n",
    "num_columns = len(dv.feature_names_)\n",
    "print(\"The number of columns in the matrix is:\", num_columns)"
   ]
  },
  {
   "cell_type": "code",
   "execution_count": 9,
   "id": "d15cfd0d",
   "metadata": {},
   "outputs": [
    {
     "name": "stdout",
     "output_type": "stream",
     "text": [
      "The standard deviation of January travel times is: 42.594351241920904 minutes.\n"
     ]
    }
   ],
   "source": [
    "# Calculate the standard deviation of trip lengths in January\n",
    "std_typical_deviation = df['duration'].std()\n",
    "print(\"The standard deviation of January travel times is:\", std_typical_deviation, \"minutes.\")"
   ]
  },
  {
   "cell_type": "code",
   "execution_count": 9,
   "id": "80681b0d",
   "metadata": {},
   "outputs": [],
   "source": [
    "# Question 5: Train the model\n",
    "y_train = df_filtered['duration'].values"
   ]
  },
  {
   "cell_type": "code",
   "execution_count": 10,
   "id": "ae000372",
   "metadata": {},
   "outputs": [
    {
     "name": "stdout",
     "output_type": "stream",
     "text": [
      "The RMSE on train is: 7.64913436187382\n"
     ]
    }
   ],
   "source": [
    "lr = LinearRegression()\n",
    "lr.fit(X_train, y_train)\n",
    "y_pred = lr.predict(X_train)\n",
    "rmse_train = mean_squared_error(y_train, y_pred, squared=False)\n",
    "print(\"The RMSE on train is:\", rmse_train)"
   ]
  },
  {
   "cell_type": "code",
   "execution_count": 12,
   "id": "b317e7ba",
   "metadata": {},
   "outputs": [],
   "source": [
    "categorical = ['PULocationID', 'DOLocationID']\n",
    "numerical = ['trip_distance']"
   ]
  },
  {
   "cell_type": "code",
   "execution_count": 11,
   "id": "e2b0c111",
   "metadata": {},
   "outputs": [
    {
     "name": "stderr",
     "output_type": "stream",
     "text": [
      "/tmp/ipykernel_74735/1852118729.py:6: SettingWithCopyWarning: \n",
      "A value is trying to be set on a copy of a slice from a DataFrame.\n",
      "Try using .loc[row_indexer,col_indexer] = value instead\n",
      "\n",
      "See the caveats in the documentation: https://pandas.pydata.org/pandas-docs/stable/user_guide/indexing.html#returning-a-view-versus-a-copy\n",
      "  df_february_filtered[categorical] = df_february_filtered[categorical].astype(str)\n"
     ]
    }
   ],
   "source": [
    "# Evaluate the model on the validation dataset (February 2023)\n",
    "df_february['tpep_pickup_datetime'] = pd.to_datetime(df_february['tpep_pickup_datetime'])\n",
    "df_february['tpep_dropoff_datetime'] = pd.to_datetime(df_february['tpep_dropoff_datetime'])\n",
    "df_february['duration'] = (df_february['tpep_dropoff_datetime'] - df_february['tpep_pickup_datetime']).dt.total_seconds() / 60\n",
    "df_february_filtered = df_february[(df_february['duration'] >= 1) & (df_february['duration'] <= 60)]\n",
    "df_february_filtered[categorical] = df_february_filtered[categorical].astype(str)\n",
    "val_dicts = df_february_filtered[features].to_dict(orient='records')\n",
    "X_val = dv.transform(val_dicts)\n",
    "y_val = df_february_filtered['duration'].values"
   ]
  },
  {
   "cell_type": "code",
   "execution_count": 12,
   "id": "fdb897e6",
   "metadata": {},
   "outputs": [
    {
     "name": "stdout",
     "output_type": "stream",
     "text": [
      "The RMSE on validation is: 7.81142176097977\n"
     ]
    }
   ],
   "source": [
    "y_val_pred = lr.predict(X_val)\n",
    "rmse_val = mean_squared_error(y_val, y_val_pred, squared=False)\n",
    "print(\"The RMSE on validation is:\", rmse_val)"
   ]
  }
 ],
 "metadata": {
  "kernelspec": {
   "display_name": "Python 3 (ipykernel)",
   "language": "python",
   "name": "python3"
  },
  "language_info": {
   "codemirror_mode": {
    "name": "ipython",
    "version": 3
   },
   "file_extension": ".py",
   "mimetype": "text/x-python",
   "name": "python",
   "nbconvert_exporter": "python",
   "pygments_lexer": "ipython3",
   "version": "3.9.12"
  }
 },
 "nbformat": 4,
 "nbformat_minor": 5
}
